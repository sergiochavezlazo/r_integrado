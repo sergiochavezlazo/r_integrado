{
    "cells": [
        {
            "cell_type": "code",
            "execution_count": 1,
            "metadata": {},
            "outputs": [
                {
                    "name": "stdout",
                    "output_type": "stream",
                    "text": "Waiting for a Spark session to start...\nSpark Initialization Done! ApplicationId = app-20210122150322-0000\nKERNEL_ID = cb787d8c-9e63-480a-8ce7-fd45cd8f207c\n"
                },
                {
                    "data": {
                        "text/html": "<div>\n<style scoped>\n    .dataframe tbody tr th:only-of-type {\n        vertical-align: middle;\n    }\n\n    .dataframe tbody tr th {\n        vertical-align: top;\n    }\n\n    .dataframe thead th {\n        text-align: right;\n    }\n</style>\n<table border=\"1\" class=\"dataframe\">\n  <thead>\n    <tr style=\"text-align: right;\">\n      <th></th>\n      <th>C\u00f3digo</th>\n      <th>Docente</th>\n      <th>Departamento</th>\n      <th>Secci\u00f3n</th>\n      <th>Categor\u00eda</th>\n      <th>Dedicaci\u00f3n</th>\n      <th>Grado</th>\n      <th>Sexo</th>\n      <th>Edad</th>\n      <th>Rese\u00f1a</th>\n      <th>...</th>\n      <th>Nro. de documentos</th>\n      <th>Nro. de citas totales</th>\n      <th>Nro. de documentos en que se cita</th>\n      <th>Nro. de coautores</th>\n      <th>\u00c1reas de Investigaci\u00f3n</th>\n      <th>Citations</th>\n      <th>Usage</th>\n      <th>Captures</th>\n      <th>Mentions</th>\n      <th>Social Media</th>\n    </tr>\n  </thead>\n  <tbody>\n    <tr>\n      <th>0</th>\n      <td>H0001514</td>\n      <td>AFSHARJAHANSHAHI , ASGHAR</td>\n      <td>DEPARTAMENTO ACADEMICO POSGRADO EN NEGOCIOS</td>\n      <td>SECC POSGRADO NEGOCI</td>\n      <td>CONTRATADO</td>\n      <td>DTC</td>\n      <td>DOCTOR</td>\n      <td>MASCULINO</td>\n      <td>41.0</td>\n      <td>NaN</td>\n      <td>...</td>\n      <td>48.0</td>\n      <td>294</td>\n      <td>224</td>\n      <td>61</td>\n      <td>Business, Management and Accounting \u2022 Social S...</td>\n      <td>305</td>\n      <td>18,174</td>\n      <td>1,926</td>\n      <td>6.0</td>\n      <td>8</td>\n    </tr>\n    <tr>\n      <th>1</th>\n      <td>H0001117</td>\n      <td>AG\u00dcERO OLIVOS, CARLOS EDUARDO</td>\n      <td>DEPARTAMENTO ACADEMICO POSGRADO EN NEGOCIOS</td>\n      <td>SECC POSGRADO NEGOCI</td>\n      <td>CONTRATADO</td>\n      <td>DTC</td>\n      <td>DOCTOR</td>\n      <td>MASCULINO</td>\n      <td>54.0</td>\n      <td>NaN</td>\n      <td>...</td>\n      <td>NaN</td>\n      <td>NaN</td>\n      <td>NaN</td>\n      <td>NaN</td>\n      <td>NaN</td>\n      <td>NaN</td>\n      <td>NaN</td>\n      <td>NaN</td>\n      <td>NaN</td>\n      <td>NaN</td>\n    </tr>\n    <tr>\n      <th>2</th>\n      <td>H0000699</td>\n      <td>ALEGR\u00cdA MORI, WALDEMAR</td>\n      <td>DEPARTAMENTO ACADEMICO POSGRADO EN NEGOCIOS</td>\n      <td>SECC POSGRADO NEGOCI</td>\n      <td>CONTRATADO</td>\n      <td>TPA</td>\n      <td>MAGISTER</td>\n      <td>MASCULINO</td>\n      <td>64.0</td>\n      <td>Ejecutivo S\u00e9nior. Bachiller en Ciencias con es...</td>\n      <td>...</td>\n      <td>NaN</td>\n      <td>NaN</td>\n      <td>NaN</td>\n      <td>NaN</td>\n      <td>NaN</td>\n      <td>NaN</td>\n      <td>NaN</td>\n      <td>NaN</td>\n      <td>NaN</td>\n      <td>NaN</td>\n    </tr>\n    <tr>\n      <th>3</th>\n      <td>19812048</td>\n      <td>ALEGRIA VARONA, GONZALO RICARDO</td>\n      <td>DEPARTAMENTO ACADEMICO POSGRADO EN NEGOCIOS</td>\n      <td>SECC POSGRADO NEGOCI</td>\n      <td>CONTRATADO</td>\n      <td>DTC</td>\n      <td>DOCTOR</td>\n      <td>MASCULINO</td>\n      <td>58.0</td>\n      <td>Doctor en Econom\u00eda Aplicada a la Investigaci\u00f3n...</td>\n      <td>...</td>\n      <td>NaN</td>\n      <td>NaN</td>\n      <td>NaN</td>\n      <td>NaN</td>\n      <td>NaN</td>\n      <td>NaN</td>\n      <td>NaN</td>\n      <td>NaN</td>\n      <td>NaN</td>\n      <td>NaN</td>\n    </tr>\n    <tr>\n      <th>4</th>\n      <td>01300147</td>\n      <td>ARIAS BOLZMANN, LEOPOLDO GABRIEL IGNACIO</td>\n      <td>DEPARTAMENTO ACADEMICO POSGRADO EN NEGOCIOS</td>\n      <td>SECC POSGRADO NEGOCI</td>\n      <td>AUXILIAR</td>\n      <td>DTC</td>\n      <td>DOCTOR</td>\n      <td>MASCULINO</td>\n      <td>64.0</td>\n      <td>NaN</td>\n      <td>...</td>\n      <td>9.0</td>\n      <td>74</td>\n      <td>74</td>\n      <td>17</td>\n      <td>Business, Management and Accounting \u2022 Decision...</td>\n      <td>74</td>\n      <td>3,373</td>\n      <td>942</td>\n      <td>0.0</td>\n      <td>31</td>\n    </tr>\n  </tbody>\n</table>\n<p>5 rows \u00d7 40 columns</p>\n</div>",
                        "text/plain": "     C\u00f3digo                                   Docente  \\\n0  H0001514                 AFSHARJAHANSHAHI , ASGHAR   \n1  H0001117             AG\u00dcERO OLIVOS, CARLOS EDUARDO   \n2  H0000699                    ALEGR\u00cdA MORI, WALDEMAR   \n3  19812048           ALEGRIA VARONA, GONZALO RICARDO   \n4  01300147  ARIAS BOLZMANN, LEOPOLDO GABRIEL IGNACIO   \n\n                                  Departamento               Secci\u00f3n  \\\n0  DEPARTAMENTO ACADEMICO POSGRADO EN NEGOCIOS  SECC POSGRADO NEGOCI   \n1  DEPARTAMENTO ACADEMICO POSGRADO EN NEGOCIOS  SECC POSGRADO NEGOCI   \n2  DEPARTAMENTO ACADEMICO POSGRADO EN NEGOCIOS  SECC POSGRADO NEGOCI   \n3  DEPARTAMENTO ACADEMICO POSGRADO EN NEGOCIOS  SECC POSGRADO NEGOCI   \n4  DEPARTAMENTO ACADEMICO POSGRADO EN NEGOCIOS  SECC POSGRADO NEGOCI   \n\n    Categor\u00eda Dedicaci\u00f3n     Grado       Sexo  Edad  \\\n0  CONTRATADO        DTC    DOCTOR  MASCULINO  41.0   \n1  CONTRATADO        DTC    DOCTOR  MASCULINO  54.0   \n2  CONTRATADO        TPA  MAGISTER  MASCULINO  64.0   \n3  CONTRATADO        DTC    DOCTOR  MASCULINO  58.0   \n4    AUXILIAR        DTC    DOCTOR  MASCULINO  64.0   \n\n                                              Rese\u00f1a  ... Nro. de documentos  \\\n0                                                NaN  ...               48.0   \n1                                                NaN  ...                NaN   \n2  Ejecutivo S\u00e9nior. Bachiller en Ciencias con es...  ...                NaN   \n3  Doctor en Econom\u00eda Aplicada a la Investigaci\u00f3n...  ...                NaN   \n4                                                NaN  ...                9.0   \n\n   Nro. de citas totales Nro. de documentos en que se cita Nro. de coautores  \\\n0                    294                               224                61   \n1                    NaN                               NaN               NaN   \n2                    NaN                               NaN               NaN   \n3                    NaN                               NaN               NaN   \n4                     74                                74                17   \n\n                              \u00c1reas de Investigaci\u00f3n Citations   Usage  \\\n0  Business, Management and Accounting \u2022 Social S...       305  18,174   \n1                                                NaN       NaN     NaN   \n2                                                NaN       NaN     NaN   \n3                                                NaN       NaN     NaN   \n4  Business, Management and Accounting \u2022 Decision...        74   3,373   \n\n  Captures  Mentions Social Media  \n0    1,926       6.0            8  \n1      NaN       NaN          NaN  \n2      NaN       NaN          NaN  \n3      NaN       NaN          NaN  \n4      942       0.0           31  \n\n[5 rows x 40 columns]"
                    },
                    "execution_count": 1,
                    "metadata": {},
                    "output_type": "execute_result"
                }
            ],
            "source": "# The code was removed by Watson Studio for sharing."
        },
        {
            "cell_type": "code",
            "execution_count": null,
            "metadata": {},
            "outputs": [],
            "source": ""
        }
    ],
    "metadata": {
        "kernelspec": {
            "display_name": "Python 3.7 with Spark",
            "language": "python3",
            "name": "python37"
        },
        "language_info": {
            "codemirror_mode": {
                "name": "ipython",
                "version": 3
            },
            "file_extension": ".py",
            "mimetype": "text/x-python",
            "name": "python",
            "nbconvert_exporter": "python",
            "pygments_lexer": "ipython3",
            "version": "3.7.9"
        }
    },
    "nbformat": 4,
    "nbformat_minor": 1
}